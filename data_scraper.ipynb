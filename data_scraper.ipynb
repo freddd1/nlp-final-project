{
 "cells": [
  {
   "cell_type": "markdown",
   "source": [
    "In this research we are using the “The ESCO Classification” dataset.  ESCO is the multilingual classification of European Skills, Competences, Qualifications and Occupations. ESCO functions as a dictionary, defining, recognizing, and categorizing professional vocations, skills, and certifications important to the EU labor market as well as education and training.  The professions pillar is one of ESCO’s two pillars. It organizes ESCO’s profession ideas. It structures the professions using hierarchical connections, metadata, and mappings to the International Standard Classification of Occupations (ISCO-08 code). There are 4 levels of hierarchical connections -"
   ],
   "metadata": {
    "collapsed": false,
    "pycharm": {
     "name": "#%% md\n"
    }
   }
  },
  {
   "cell_type": "markdown",
   "source": [
    "\n",
    "<img src=\"img/ESCO occupatiens levels.png\" width=\"800\" height=\"400\">"
   ],
   "metadata": {
    "collapsed": false,
    "pycharm": {
     "name": "#%% md\n"
    }
   }
  },
  {
   "cell_type": "markdown",
   "source": [
    "We will use the second level of the \"ISCO-08 code\"."
   ],
   "metadata": {
    "collapsed": false,
    "pycharm": {
     "name": "#%% md\n"
    }
   }
  },
  {
   "cell_type": "markdown",
   "source": [
    "The data need to be scrapped from the official [ESCO website](https://esco.ec.europa.eu/en/classification/occupation_main). <br>\n",
    "We implemented `utils/scraper.py`, just run this `py` file and the data will be downloaded into train and test files in `data` folder. <br>\n",
    "or alternately, clone the datasets from our [GitHub repo](https://github.com/freddd1/nlp-final-project).\n",
    "\n"
   ],
   "metadata": {
    "collapsed": false,
    "pycharm": {
     "name": "#%% md\n"
    }
   }
  }
 ],
 "metadata": {
  "kernelspec": {
   "display_name": "Python 3",
   "language": "python",
   "name": "python3"
  },
  "language_info": {
   "codemirror_mode": {
    "name": "ipython",
    "version": 2
   },
   "file_extension": ".py",
   "mimetype": "text/x-python",
   "name": "python",
   "nbconvert_exporter": "python",
   "pygments_lexer": "ipython2",
   "version": "2.7.6"
  }
 },
 "nbformat": 4,
 "nbformat_minor": 0
}